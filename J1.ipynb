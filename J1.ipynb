{
  "nbformat": 4,
  "nbformat_minor": 0,
  "metadata": {
    "colab": {
      "provenance": [],
      "include_colab_link": true
    },
    "kernelspec": {
      "name": "python3",
      "display_name": "Python 3"
    },
    "language_info": {
      "name": "python"
    }
  },
  "cells": [
    {
      "cell_type": "markdown",
      "metadata": {
        "id": "view-in-github",
        "colab_type": "text"
      },
      "source": [
        "<a href=\"https://colab.research.google.com/github/mostakinahmed/Data-Structures/blob/main/J1.ipynb\" target=\"_parent\"><img src=\"https://colab.research.google.com/assets/colab-badge.svg\" alt=\"Open In Colab\"/></a>"
      ]
    },
    {
      "cell_type": "markdown",
      "source": [
        "Problem 1\n"
      ],
      "metadata": {
        "id": "8DartFJodnPb"
      }
    },
    {
      "cell_type": "markdown",
      "source": [
        "You are building a ticketing system where people queue up for service.\n",
        "Your task is to complete the code maintaining:\n",
        "\n",
        "A new person joins the queue.\n",
        "The next person in line is served and removed.\n",
        "Show the ticket number of the next person to be served.\n",
        "\n",
        "The queue should display an \"Overflow\" message if it exceeds its capacity and  \"Underflow\" if someone is told to be deleted on an empty queue."
      ],
      "metadata": {
        "id": "83zVPkTdd6QT"
      }
    },
    {
      "cell_type": "code",
      "source": [
        "%%writefile queue.c\n",
        "#include <stdio.h>\n",
        "#define MAX 5\n",
        "\n",
        "int queue[MAX];\n",
        "int front = -1, rear = -1;\n",
        "\n",
        "void enqueue(int data) {\n",
        "  if(rear ==MAX-1){\n",
        "      printf(\"Queue is full\\n\");\n",
        "  }\n",
        "  else{\n",
        "    if(front==-1){\n",
        "       front=0;\n",
        "    }\n",
        "\n",
        "      rear=rear+1;\n",
        "      queue[rear]=data;\n",
        "      printf(\"Person with ticket %d joined the queue\\n\",data);\n",
        "\n",
        "  }\n",
        "\n",
        "}\n",
        "\n",
        "void dequeue() {\n",
        "     if(front ==-1){\n",
        "      printf(\"Underflow\\n\");\n",
        "  }\n",
        "  else{\n",
        "    printf(\"Person with ticket %d served and removed\\n\",queue[front]);\n",
        "    front=front+1;\n",
        "    if(front>rear){\n",
        "      front=rear=-1;\n",
        "    }\n",
        "  }\n",
        "}\n",
        "\n",
        "void peek() {\n",
        "    if (front == -1 || front > rear) {\n",
        "        printf(\"Underflow\\n\");\n",
        "        return;\n",
        "    }\n",
        "    printf(\"Next ticket to be served: %d\\n\", queue[front]);\n",
        "}\n",
        "\n",
        "int main() {\n",
        "    enqueue(101);\n",
        "    enqueue(102);\n",
        "    peek();\n",
        "    dequeue();\n",
        "    peek();\n",
        "    dequeue();\n",
        "    dequeue(); // Underflow\n",
        "    return 0;\n",
        "}\n",
        "\n"
      ],
      "metadata": {
        "colab": {
          "base_uri": "https://localhost:8080/"
        },
        "id": "CN7JcepOeAnJ",
        "outputId": "e441ef54-ce3d-42ce-9a51-1f88422ec1ce"
      },
      "execution_count": 109,
      "outputs": [
        {
          "output_type": "stream",
          "name": "stdout",
          "text": [
            "Overwriting queue.c\n"
          ]
        }
      ]
    },
    {
      "cell_type": "code",
      "source": [
        "!gcc queue.c -o queue\n",
        "!./queue\n"
      ],
      "metadata": {
        "colab": {
          "base_uri": "https://localhost:8080/"
        },
        "id": "SxeGM25z2XRq",
        "outputId": "d391df9c-5766-4f97-8999-887c647e95c0"
      },
      "execution_count": 110,
      "outputs": [
        {
          "output_type": "stream",
          "name": "stdout",
          "text": [
            "Person with ticket 101 joined the queue\n",
            "Person with ticket 102 joined the queue\n",
            "Next ticket to be served: 101\n",
            "Person with ticket 101 served and removed\n",
            "Next ticket to be served: 102\n",
            "Person with ticket 102 served and removed\n",
            "Underflow\n"
          ]
        }
      ]
    },
    {
      "cell_type": "markdown",
      "source": [
        "Problem 2\n",
        "\n",
        "\n",
        "Design a program that dynamically builds a sequence of numbers as users input them.\n",
        "\n",
        "Each new number must be added to the end of the sequence.\n",
        "Also, provide a function to display all elements in the list in the order they were added.\n"
      ],
      "metadata": {
        "id": "xInVGuy82gVD"
      }
    },
    {
      "cell_type": "code",
      "source": [
        "%%writefile linkedlist.c\n",
        "#include <stdio.h>\n",
        "#include <stdlib.h>\n",
        "\n",
        "struct Node {\n",
        "    int data;\n",
        "    struct Node* next;\n",
        "};\n",
        "  struct Node *previous = NULL;\n",
        "// Insert a new number at the end of the linked list\n",
        "void insertAtEnd(struct Node** head, int data) {\n",
        "\n",
        "    struct Node *newNode = (struct Node *)malloc(sizeof(struct Node));\n",
        "\n",
        "    //make a node to store previous node\n",
        "\n",
        "\n",
        "    newNode->data = data;\n",
        "    newNode->next = NULL;\n",
        "    if(*head==NULL){\n",
        "      *head=newNode;\n",
        "      previous=newNode;\n",
        "    }\n",
        "    else{\n",
        "       previous->next=newNode;\n",
        "       previous=newNode;\n",
        "    }\n",
        "}\n",
        "\n",
        "// Display the linked list in order\n",
        "void displayList(struct Node* head) {\n",
        "    if (head == NULL) {\n",
        "        printf(\"List is empty\\n\");\n",
        "        return;\n",
        "    }\n",
        "    struct Node* temp = head;\n",
        "    while (temp != NULL) {\n",
        "        printf(\"%d \", temp->data);\n",
        "        temp = temp->next;\n",
        "    }\n",
        "    printf(\"\\n\");\n",
        "}\n",
        "\n",
        "int main() {\n",
        "    printf(\"\\n=== Linked List Test ===\\n\");\n",
        "    struct Node* head = NULL;\n",
        "\n",
        "    insertAtEnd(&head, 10);\n",
        "    insertAtEnd(&head, 20);\n",
        "    insertAtEnd(&head, 30);\n",
        "\n",
        "    printf(\"Linked List: \");\n",
        "    displayList(head);\n",
        "\n",
        "    return 0;\n",
        "}\n"
      ],
      "metadata": {
        "colab": {
          "base_uri": "https://localhost:8080/"
        },
        "id": "KpytqXLp2lLD",
        "outputId": "c5ce9c1f-b0db-4939-9ad5-5eda6b5169b0"
      },
      "execution_count": 111,
      "outputs": [
        {
          "output_type": "stream",
          "name": "stdout",
          "text": [
            "Overwriting linkedlist.c\n"
          ]
        }
      ]
    },
    {
      "cell_type": "code",
      "source": [
        "!gcc linkedlist.c -o linkedlist\n",
        "!./linkedlist\n"
      ],
      "metadata": {
        "colab": {
          "base_uri": "https://localhost:8080/"
        },
        "id": "uFfyNjji20b5",
        "outputId": "7555a24a-b891-4d1e-dbbe-077ab14dde48"
      },
      "execution_count": 112,
      "outputs": [
        {
          "output_type": "stream",
          "name": "stdout",
          "text": [
            "\n",
            "=== Linked List Test ===\n",
            "Linked List: 10 20 30 \n"
          ]
        }
      ]
    },
    {
      "cell_type": "markdown",
      "source": [
        "Problem 3\n"
      ],
      "metadata": {
        "id": "R8eWarRE25qE"
      }
    },
    {
      "cell_type": "markdown",
      "source": [
        "A delivery company stores its shipment hierarchy as a binary tree,\n",
        "\n",
        "where each node contains a shipment ID.\n",
        "\n",
        "The company wants to generate a “dispatch order” list,\n",
        "which requires visiting the left route first, then the right route, and finally the current shipment.\n",
        "\n",
        "\n",
        "Write a program to:\n",
        "\n",
        "Manually create the shipment tree.\n",
        "\n",
        "\n",
        "\n",
        "Print the dispatch order using the above rule.\n"
      ],
      "metadata": {
        "id": "UInoIL0f3DL7"
      }
    },
    {
      "cell_type": "code",
      "source": [
        "%%writefile tree.c\n",
        "#include <stdio.h>\n",
        "#include <stdlib.h>\n",
        "\n",
        "struct TreeNode {\n",
        "    int shipmentID;\n",
        "    struct TreeNode* left;\n",
        "    struct TreeNode* right;\n",
        "};\n",
        "\n",
        "// Create a new tree node\n",
        "struct TreeNode* createNode(int id) {\n",
        "    struct TreeNode* newNode = (struct TreeNode*)malloc(sizeof(struct TreeNode));\n",
        "    newNode->shipmentID = id;\n",
        "    newNode->left = newNode->right = NULL;\n",
        "    return newNode;\n",
        "}\n",
        "\n",
        "// Postorder traversal: Left, Right, Root\n",
        "void postorderTraversal(struct TreeNode* root) {\n",
        "    if(root==NULL)\n",
        "        return;\n",
        "    postorderTraversal(root->left);\n",
        "    postorderTraversal(root->right);\n",
        "    printf(\"%d \",root->shipmentID);\n",
        "}\n",
        "\n",
        "int main() {\n",
        "    printf(\"\\n=== Binary Tree Test ===\\n\");\n",
        "\n",
        "    /*\n",
        "           1\n",
        "          / \\\n",
        "         2   3\n",
        "        / \\   \\\n",
        "       4   5   6\n",
        "    */\n",
        "    struct TreeNode* root = createNode(1);\n",
        "    root->left = createNode(2);\n",
        "    root->right = createNode(3);\n",
        "    root->left->left = createNode(4);\n",
        "    root->left->right = createNode(5);\n",
        "    root->right->right = createNode(6);\n",
        "\n",
        "    printf(\"Dispatch Order (Postorder): \");\n",
        "    postorderTraversal(root);\n",
        "    printf(\"\\n\");\n",
        "\n",
        "    return 0;\n",
        "}\n"
      ],
      "metadata": {
        "colab": {
          "base_uri": "https://localhost:8080/"
        },
        "id": "_RIxqCFI3LyT",
        "outputId": "69a3710d-7457-48e2-d733-6ae30dcf4971"
      },
      "execution_count": 113,
      "outputs": [
        {
          "output_type": "stream",
          "name": "stdout",
          "text": [
            "Overwriting tree.c\n"
          ]
        }
      ]
    },
    {
      "cell_type": "code",
      "source": [
        "!gcc tree.c -o tree\n",
        "!./tree"
      ],
      "metadata": {
        "colab": {
          "base_uri": "https://localhost:8080/"
        },
        "id": "tH4vWG1p3ZyC",
        "outputId": "98f2e90a-bbc6-459a-e5e9-dba7492b0356"
      },
      "execution_count": 114,
      "outputs": [
        {
          "output_type": "stream",
          "name": "stdout",
          "text": [
            "\n",
            "=== Binary Tree Test ===\n",
            "Dispatch Order (Postorder): 4 5 2 6 3 1 \n"
          ]
        }
      ]
    }
  ]
}